{
 "cells": [
  {
   "cell_type": "code",
   "execution_count": null,
   "metadata": {},
   "outputs": [],
   "source": [
    "import json\n",
    "\n",
    "src_vocab, tgt_vocab, idx2word = {}, {}, {}"
   ]
  },
  {
   "cell_type": "code",
   "execution_count": null,
   "metadata": {},
   "outputs": [],
   "source": [
    "with open(\"vocab.sbt\", \"r\") as sbt_file:\n",
    "    sbt_lines = sbt_file.readlines()\n",
    "for i, line in enumerate(sbt_lines):\n",
    "    src_vocab[line.strip()] = i\n",
    "with open(\"src_vocab.json\", \"a+\") as src_vocab_file:\n",
    "    json.dump(src_vocab, src_vocab_file)\n",
    "sbt_file.close()\n",
    "src_vocab_file.close()"
   ]
  },
  {
   "cell_type": "code",
   "execution_count": null,
   "metadata": {},
   "outputs": [],
   "source": [
    "with open(\"vocab.nl\", \"r\") as nl_file:\n",
    "    nl_lines = nl_file.readlines()\n",
    "for i, line in enumerate(nl_lines):\n",
    "    tgt_vocab[line.strip()] = i\n",
    "\n",
    "idx2word = {i: w for i, w in enumerate(tgt_vocab)}\n",
    "\n",
    "with open(\"tgt_vocab.json\", \"a+\") as tgt_vocab_file:\n",
    "    json.dump(tgt_vocab, tgt_vocab_file)\n",
    "with open(\"idx2word.json\", \"a+\") as idx2word_file:\n",
    "    json.dump(idx2word, idx2word_file)\n",
    "\n",
    "nl_file.close()\n",
    "tgt_vocab_file.close()\n",
    "idx2word_file.close()"
   ]
  }
 ],
 "metadata": {
  "kernelspec": {
   "display_name": "Python 3.8.10 64-bit",
   "language": "python",
   "name": "python3"
  },
  "language_info": {
   "codemirror_mode": {
    "name": "ipython",
    "version": 3
   },
   "file_extension": ".py",
   "mimetype": "text/x-python",
   "name": "python",
   "nbconvert_exporter": "python",
   "pygments_lexer": "ipython3",
   "version": "3.8.10"
  },
  "orig_nbformat": 4,
  "vscode": {
   "interpreter": {
    "hash": "916dbcbb3f70747c44a77c7bcd40155683ae19c65e1c03b4aa3499c5328201f1"
   }
  }
 },
 "nbformat": 4,
 "nbformat_minor": 2
}
